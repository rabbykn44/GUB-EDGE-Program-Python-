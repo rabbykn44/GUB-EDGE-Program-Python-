{
  "nbformat": 4,
  "nbformat_minor": 0,
  "metadata": {
    "colab": {
      "private_outputs": true,
      "provenance": []
    },
    "kernelspec": {
      "name": "python3",
      "display_name": "Python 3"
    },
    "language_info": {
      "name": "python"
    }
  },
  "cells": [
    {
      "cell_type": "code",
      "source": [
        "import numpy as np\n",
        "import sklearn.neural_network as nn\n",
        "import matplotlib.pyplot as plt\n",
        "\n",
        "# XOR inputs and outputs\n",
        "X = np.array([[0, 0], [0, 1], [1, 0], [1, 1]])\n",
        "y = np.array([0, 1, 1, 0])"
      ],
      "metadata": {
        "id": "F19NBk7uWy5e"
      },
      "execution_count": null,
      "outputs": []
    },
    {
      "cell_type": "code",
      "source": [
        "activation_functions = ['logistic', 'tanh', 'relu', 'identity']\n",
        "results_activation = {}\n",
        "\n",
        "for activation in activation_functions:\n",
        "    model = nn.MLPClassifier(activation=activation, max_iter=10000, learning_rate_init=0.1, hidden_layer_sizes=(3,))\n",
        "    model.fit(X, y)\n",
        "    results_activation[activation] = (model.score(X, y), model.predict(X))\n",
        "\n",
        "for activation, result in results_activation.items():\n",
        "    print(f\"Activation Function: {activation}\")\n",
        "    print(f\"Accuracy: {result[0]}\")\n",
        "    print(f\"Predictions: {result[1]}\")\n",
        "    print(\"Expected:\", y)\n",
        "    print(\"-\" * 40)"
      ],
      "metadata": {
        "id": "VxP3IkhzW399"
      },
      "execution_count": null,
      "outputs": []
    },
    {
      "cell_type": "code",
      "source": [
        "learning_rates = [0.001, 0.01, 0.1, 1]\n",
        "results_lr = {}\n",
        "\n",
        "for lr in learning_rates:\n",
        "    model = nn.MLPClassifier(activation='logistic', max_iter=10000, learning_rate_init=lr, hidden_layer_sizes=(3,))\n",
        "    model.fit(X, y)\n",
        "    results_lr[lr] = (model.score(X, y), model.predict(X))\n",
        "\n",
        "for lr, result in results_lr.items():\n",
        "    print(f\"Learning Rate: {lr}\")\n",
        "    print(f\"Accuracy: {result[0]}\")\n",
        "    print(f\"Predictions: {result[1]}\")\n",
        "    print(\"Expected:\", y)\n",
        "    print(\"-\" * 40)"
      ],
      "metadata": {
        "id": "o0gSNbXFdQVa"
      },
      "execution_count": null,
      "outputs": []
    },
    {
      "cell_type": "code",
      "source": [
        "iterations = [100, 500, 1000, 10000]\n",
        "results_iter = {}\n",
        "\n",
        "for max_iter in iterations:\n",
        "    model = nn.MLPClassifier(activation='logistic', max_iter=max_iter, learning_rate_init=0.1, hidden_layer_sizes=(3,))\n",
        "    model.fit(X, y)\n",
        "    results_iter[max_iter] = (model.score(X, y), model.predict(X))\n",
        "\n",
        "for max_iter, result in results_iter.items():\n",
        "    print(f\"Max Iterations: {max_iter}\")\n",
        "    print(f\"Accuracy: {result[0]}\")\n",
        "    print(f\"Predictions: {result[1]}\")\n",
        "    print(\"Expected:\", y)\n",
        "    print(\"-\" * 40)\n"
      ],
      "metadata": {
        "id": "RKtk6759XM0d"
      },
      "execution_count": null,
      "outputs": []
    },
    {
      "cell_type": "code",
      "source": [
        "layer_configurations = [(3,), (5,), (3, 3), (5, 5)]\n",
        "results_layers = {}\n",
        "\n",
        "for layers in layer_configurations:\n",
        "    model = nn.MLPClassifier(activation='logistic', max_iter=10000, learning_rate_init=0.1, hidden_layer_sizes=layers)\n",
        "    model.fit(X, y)\n",
        "    results_layers[layers] = (model.score(X, y), model.predict(X))\n",
        "\n",
        "for layers, result in results_layers.items():\n",
        "    print(f\"Hidden Layers: {layers}\")\n",
        "    print(f\"Accuracy: {result[0]}\")\n",
        "    print(f\"Predictions: {result[1]}\")\n",
        "    print(\"Expected:\", y)\n",
        "    print(\"-\" * 40)\n"
      ],
      "metadata": {
        "id": "IIoLZc5gXQO-"
      },
      "execution_count": null,
      "outputs": []
    },
    {
      "cell_type": "code",
      "source": [
        "# Optional: Plotting the results for activation functions, learning rates, and iterations\n",
        "plt.figure(figsize=(10, 6))\n",
        "\n",
        "# Plotting Accuracy vs Activation Functions\n",
        "activations = list(results_activation.keys())\n",
        "accuracies_activation = [result[0] for result in results_activation.values()]\n",
        "plt.subplot(2, 2, 1)\n",
        "plt.bar(activations, accuracies_activation, color='skyblue')\n",
        "plt.title('Accuracy vs Activation Functions')\n",
        "plt.xlabel('Activation Functions')\n",
        "plt.ylabel('Accuracy')\n",
        "\n",
        "# Plotting Accuracy vs Learning Rates\n",
        "learning_rate_keys = list(results_lr.keys())\n",
        "accuracies_lr = [result[0] for result in results_lr.values()]\n",
        "plt.subplot(2, 2, 2)\n",
        "plt.bar(learning_rate_keys, accuracies_lr, color='salmon')\n",
        "plt.title('Accuracy vs Learning Rates')\n",
        "plt.xlabel('Learning Rates')\n",
        "plt.ylabel('Accuracy')\n",
        "\n",
        "# Plotting Accuracy vs Iterations\n",
        "iteration_keys = list(results_iter.keys())\n",
        "accuracies_iter = [result[0] for result in results_iter.values()]\n",
        "plt.subplot(2, 2, 3)\n",
        "plt.bar(iteration_keys, accuracies_iter, color='lightgreen')\n",
        "plt.title('Accuracy vs Iterations')\n",
        "plt.xlabel('Iterations')\n",
        "plt.ylabel('Accuracy')\n",
        "\n",
        "# Plotting Accuracy vs Number of Hidden Layers\n",
        "layer_keys = [str(layers) for layers in results_layers.keys()]\n",
        "accuracies_layers = [result[0] for result in results_layers.values()]\n",
        "plt.subplot(2, 2, 4)\n",
        "plt.bar(layer_keys, accuracies_layers, color='lightcoral')\n",
        "plt.title('Accuracy vs Hidden Layers')\n",
        "plt.xlabel('Hidden Layers')\n",
        "plt.ylabel('Accuracy')\n",
        "\n",
        "plt.tight_layout()\n",
        "plt.show()\n"
      ],
      "metadata": {
        "id": "BbznS4tTXUnF"
      },
      "execution_count": null,
      "outputs": []
    }
  ]
}