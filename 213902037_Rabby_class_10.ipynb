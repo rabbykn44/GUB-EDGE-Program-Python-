{
  "nbformat": 4,
  "nbformat_minor": 0,
  "metadata": {
    "colab": {
      "private_outputs": true,
      "provenance": []
    },
    "kernelspec": {
      "name": "python3",
      "display_name": "Python 3"
    },
    "language_info": {
      "name": "python"
    }
  },
  "cells": [
    {
      "cell_type": "code",
      "execution_count": null,
      "metadata": {
        "id": "7mtkJSgY3yeB"
      },
      "outputs": [],
      "source": [
        "colors ={'black', 'green','write','blue','grey','black'}\n",
        "colors.add('brown')\n",
        "str_='Hello World!'\n",
        "set_=set(str_.split(' '))\n",
        "print(set_)\n",
        "print(colors)\n"
      ]
    },
    {
      "cell_type": "code",
      "source": [
        "numbers = {1, 2, 3, 4, 5}\n",
        "new_number = int(input(\"Enter a new number to add to the set: \"))\n",
        "\n",
        "numbers.add(new_number)\n",
        "print(\"Updated set:\", numbers)"
      ],
      "metadata": {
        "id": "jFQECUny77fY"
      },
      "execution_count": null,
      "outputs": []
    },
    {
      "cell_type": "code",
      "source": [
        "numbers ={ 1,2,3,4,5}\n",
        "numbers.clear()\n",
        "print(\"Empty set:\",numbers)"
      ],
      "metadata": {
        "id": "o5AyKSgq8mWO"
      },
      "execution_count": null,
      "outputs": []
    },
    {
      "cell_type": "code",
      "source": [
        "my_set = set()\n",
        "for i in range(5):\n",
        "    item = input(f\"Enter item {i+1}: \")\n",
        "\n",
        "for item in my_set:\n",
        "   print(f\"Lowercase: {item.lower()}, Uppercase: {item.upper()}\")\n"
      ],
      "metadata": {
        "id": "eDiBejwv_dWF"
      },
      "execution_count": null,
      "outputs": []
    },
    {
      "cell_type": "code",
      "source": [
        "import math\n",
        "\n",
        "numbers = set()\n",
        "for i in range(5):\n",
        "    num = int(input(f\"Enter number {i + 1}: \"))\n",
        "    numbers.add(num)\n",
        "print(\"Numbers:\", numbers)\n",
        "\n"
      ],
      "metadata": {
        "id": "hr9ZAOiPA4Oe"
      },
      "execution_count": null,
      "outputs": []
    },
    {
      "cell_type": "code",
      "source": [
        "\n",
        "numbers = set()\n",
        "\n",
        "for i in range(5):\n",
        "    while True:\n",
        "        try:\n",
        "            num = float(input(f\"Enter number {i + 1}: \"))\n",
        "            numbers.add(num)\n",
        "            break\n",
        "        except ValueError:\n",
        "            print(\"Please enter a valid number.\")\n",
        "\n",
        "sum_of_numbers = sum(numbers)\n",
        "product_of_numbers = 1\n",
        "for num in numbers:\n",
        "    product_of_numbers *= num\n",
        "print(\"\\nNumbers in the set:\", numbers)\n",
        "print(\"Sum of the numbers:\", sum_of_numbers)\n",
        "print(\"Product of the numbers:\", product_of_numbers)\n"
      ],
      "metadata": {
        "id": "GFmRhLPeBXX4"
      },
      "execution_count": null,
      "outputs": []
    },
    {
      "cell_type": "code",
      "source": [
        "setA = {5, 78, 9, 23}\n",
        "setB = {5, 78, 9, 23}\n",
        "setC = setA.symmetric_difference(setB)\n",
        "print(setC)\n"
      ],
      "metadata": {
        "id": "v4s7EthdD4-Y"
      },
      "execution_count": null,
      "outputs": []
    },
    {
      "cell_type": "code",
      "source": [
        "setA = {5, 78, 9, 23}\n",
        "setB = {78, 9, 45, 67}\n",
        "setC = setA.symmetric_difference(setB)\n",
        "print(setC)\n"
      ],
      "metadata": {
        "id": "o6YCxuJ-EDz1"
      },
      "execution_count": null,
      "outputs": []
    },
    {
      "cell_type": "code",
      "source": [
        "\n"
      ],
      "metadata": {
        "id": "QqXhqQWCE8HI"
      },
      "execution_count": null,
      "outputs": []
    },
    {
      "cell_type": "code",
      "source": [
        "odd_numbers = {num for num in range(1,10001) if num % 2 !=0}\n",
        "print(\"Odd numbers:\",odd_numbers)"
      ],
      "metadata": {
        "id": "iIck1JPRFCzw"
      },
      "execution_count": null,
      "outputs": []
    },
    {
      "cell_type": "code",
      "source": [
        "set1_elements = input(\"Enter elements for the first set, separated by spaces: \").split()\n",
        "set1 = set(set1_elements)\n",
        "\n",
        "set2_elements = input(\"Enter elements for the second set, separated by spaces: \").split()\n",
        "set2 = set(set2_elements)\n",
        "\n",
        "intersection_set = set1.intersection(set2)\n",
        "print(\"Intersection of the two sets:\", intersection_set)"
      ],
      "metadata": {
        "id": "zF01JGIMHPZ2"
      },
      "execution_count": null,
      "outputs": []
    },
    {
      "cell_type": "code",
      "source": [
        "\n",
        "def check_subset():\n",
        "\n",
        "    set1_elements = input(\"Enter elements for the first set, separated by spaces: \").split()\n",
        "    set1 = set(set1_elements)\n",
        "\n",
        "    set2_elements = input(\"Enter elements for the second set, separated by spaces: \").split()\n",
        "    set2 = set(set2_elements)\n",
        "\n",
        "\n",
        "    if set1.issubset(set2):\n",
        "        print(\"Set 1 is a subset of Set 2\")\n",
        "    elif set2.issubset(set1):\n",
        "        print(\"Set 2 is a subset of Set 1\")\n",
        "    else:\n",
        "        print(\"Neither set is a subset of the other\")\n",
        "\n",
        "check_subset()\n"
      ],
      "metadata": {
        "id": "gtHkB-tISE8M"
      },
      "execution_count": null,
      "outputs": []
    },
    {
      "cell_type": "code",
      "source": [
        "\n",
        "def remove_and_add_element():\n",
        "\n",
        "    user_set_elements = input(\"Enter elements for the set, separated by spaces: \").split()\n",
        "    user_set = set(user_set_elements)\n",
        "\n",
        "\n",
        "    element_to_remove = input(\"Enter the element you want to remove: \")\n",
        "    if element_to_remove in user_set:\n",
        "        user_set.remove(element_to_remove)\n",
        "        print(f\"Set after removal: {user_set}\")\n",
        "\n",
        "\n",
        "        user_set.add(element_to_remove)\n",
        "        print(f\"Set after adding back: {user_set}\")\n",
        "    else:\n",
        "        print(\"Element not found in the set.\")\n",
        "\n",
        "remove_and_add_element()\n"
      ],
      "metadata": {
        "id": "MSDW7zkBSJ-k"
      },
      "execution_count": null,
      "outputs": []
    },
    {
      "cell_type": "code",
      "source": [
        "\n",
        "def display_elements_with_length():\n",
        "\n",
        "    user_set_elements = input(\"Enter 5 elements for the set, separated by spaces: \").split()\n",
        "    user_set = set(user_set_elements)\n",
        "\n",
        "\n",
        "    for element in user_set:\n",
        "        print(f\"Element: {element}, Length: {len(element)}\")\n",
        "\n",
        "display_elements_with_length()\n"
      ],
      "metadata": {
        "id": "EM-1rQymSQMc"
      },
      "execution_count": null,
      "outputs": []
    },
    {
      "cell_type": "code",
      "source": [
        "\n",
        "def add_list_to_set():\n",
        "\n",
        "    user_list = [input(f\"Enter element {i+1}: \") for i in range(5)]\n",
        "\n",
        "    user_set = set(user_list)\n",
        "    print(f\"Set after adding the list: {user_set}\")\n",
        "\n",
        "add_list_to_set()\n"
      ],
      "metadata": {
        "id": "dTVee9xoSUNN"
      },
      "execution_count": null,
      "outputs": []
    },
    {
      "cell_type": "code",
      "source": [
        "pl = ('Python', 'C++', 'JavaScript', 'C', 'Java', 'HTML')\n",
        "print(pl[0])\n",
        "\n"
      ],
      "metadata": {
        "id": "APx479QnTR2u"
      },
      "execution_count": null,
      "outputs": []
    },
    {
      "cell_type": "code",
      "source": [
        "pl = ('Python', 'C++', 'JavaScript', 'C', 'Java', 'HTML')\n",
        "print(pl[-1])\n",
        "\n",
        "for item in pl:\n",
        "    print(item)\n",
        "\n"
      ],
      "metadata": {
        "id": "75Dm6jv1TjrM"
      },
      "execution_count": null,
      "outputs": []
    },
    {
      "cell_type": "code",
      "source": [],
      "metadata": {
        "id": "iitpNgznX-ip"
      },
      "execution_count": null,
      "outputs": []
    },
    {
      "cell_type": "code",
      "source": [
        "student_names = []\n",
        "for i in range(5):\n",
        "    name = input(f\"Enter the name of student {i + 1}: \")\n",
        "    student_names.append(name)\n",
        "\n",
        "student_names_tuple = tuple(student_names)\n",
        "print(\"\\nStudent Names in Uppercase:\")\n",
        "for name in student_names_tuple:\n",
        "    print(name.upper())"
      ],
      "metadata": {
        "id": "GeK7iks6Ugcd"
      },
      "execution_count": null,
      "outputs": []
    },
    {
      "cell_type": "code",
      "source": [
        "\n",
        "numbers = []\n",
        "for i in range(10):\n",
        "    while True:\n",
        "        try:\n",
        "            num = int(input(f\"Enter number {i + 1}: \"))\n",
        "            numbers.append(num)\n",
        "            break\n",
        "        except ValueError:\n",
        "            print(\"Invalid input. Please enter an integer.\")\n",
        "\n",
        "\n",
        "numbers_tuple = tuple(numbers)\n",
        "\n",
        "print(\"\\nOdd Numbers:\")\n",
        "for num in numbers_tuple:\n",
        "    if num % 2 != 0:\n",
        "        print(num)"
      ],
      "metadata": {
        "id": "ViRVGmAEV4Bx"
      },
      "execution_count": null,
      "outputs": []
    },
    {
      "cell_type": "code",
      "source": [
        "from random import randint\n",
        "nums = (randint(0, 1000) for x in range(10))\n",
        "nums = tuple(nums)\n",
        "\n",
        "print(\"Generated random numbers:\", nums)\n",
        "odd_nums = tuple(x for x in nums if x % 2 == 1)\n",
        "\n",
        "print(\"Odd numbers:\", odd_nums)\n"
      ],
      "metadata": {
        "id": "rSWED4ZqYAMx"
      },
      "execution_count": null,
      "outputs": []
    },
    {
      "cell_type": "code",
      "source": [
        "numbers = []\n",
        "for i in range(10):\n",
        "    while True:\n",
        "        try:\n",
        "            num = int(input(f\"Enter number {i+1}: \"))\n",
        "            numbers.append(num)\n",
        "            break\n",
        "        except ValueError:\n",
        "            print(\"Invalid input.\")\n",
        "\n",
        "print(\"\\nNumbers divisible by 2 and 3:\")\n",
        "for num in numbers:\n",
        "    if num % 2 == 0 and num % 3 == 0:\n",
        "        print(num)\n"
      ],
      "metadata": {
        "id": "cj8M8YJ4YIx6"
      },
      "execution_count": null,
      "outputs": []
    },
    {
      "cell_type": "code",
      "source": [
        "numbers = (2, 4, 6, 8, 10, 12, 14, 16, 18, 20)\n",
        "\n",
        "total_sum = sum(numbers)\n",
        "total_multiplication = 1\n",
        "for num in numbers:\n",
        "    total_multiplication *= num\n",
        "print(\"Sum of all numbers:\", total_sum)\n",
        "print(\"Multiplication of all numbers:\", total_multiplication)\n"
      ],
      "metadata": {
        "id": "Y0bW6yhwargT"
      },
      "execution_count": null,
      "outputs": []
    },
    {
      "cell_type": "code",
      "source": [
        "my_tuple = ('P', 'y', 't', 'h', 'o', 'n')\n",
        "my_string = ''.join(my_tuple)\n",
        "print(\"The tuple converted into a string:\", my_string)\n"
      ],
      "metadata": {
        "id": "OX-30VmVavdo"
      },
      "execution_count": null,
      "outputs": []
    },
    {
      "cell_type": "code",
      "source": [
        "my_tuple = (1, 2, 3, 4, 5, 1, 2, 6, 7, 1)\n",
        "\n",
        "item = int(input(\"Enter the item you want to find the occurrence of: \"))\n",
        "occurrence = my_tuple.count(item)\n",
        "print(f\"The item {item} occurs {occurrence} times in the tuple.\")\n"
      ],
      "metadata": {
        "id": "M6tMeWfda5wK"
      },
      "execution_count": null,
      "outputs": []
    },
    {
      "cell_type": "code",
      "source": [
        "numbers = (2, 3, 6, 9, 12, 15, 18, 21, 24, 30)\n",
        "\n",
        "print(\"Numbers divisible by 2 and 3:\")\n",
        "for num in numbers:\n",
        "    if num % 2 == 0 and num % 3 == 0:\n",
        "        print(num)\n"
      ],
      "metadata": {
        "id": "bJ9WB_z_bBuA"
      },
      "execution_count": null,
      "outputs": []
    },
    {
      "cell_type": "code",
      "source": [
        "my_tuple = (10, 20, 30, 40, 50, 60, 70, 80, 90, 100)\n",
        "item = int(input(\"Enter the item you want to find the position of: \"))\n",
        "if item in my_tuple:\n",
        "    position = my_tuple.index(item)\n",
        "    print(f\"The position of {item} in the tuple is: {position}\")\n",
        "else:\n",
        "    print(f\"The item {item} is not in the tuple.\")\n"
      ],
      "metadata": {
        "id": "rivhuUR_bIYc"
      },
      "execution_count": null,
      "outputs": []
    },
    {
      "cell_type": "markdown",
      "source": [],
      "metadata": {
        "id": "GMpmLINYbp38"
      }
    }
  ]
}