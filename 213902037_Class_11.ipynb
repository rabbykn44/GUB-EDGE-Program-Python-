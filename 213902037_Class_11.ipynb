{
  "nbformat": 4,
  "nbformat_minor": 0,
  "metadata": {
    "colab": {
      "private_outputs": true,
      "provenance": []
    },
    "kernelspec": {
      "name": "python3",
      "display_name": "Python 3"
    },
    "language_info": {
      "name": "python"
    }
  },
  "cells": [
    {
      "cell_type": "code",
      "execution_count": null,
      "metadata": {
        "id": "TX1wfWDbMr_W"
      },
      "outputs": [],
      "source": [
        "file = open('/content/example.txt', 'r')  # Open file\n",
        "file.close()  # Close file\n"
      ]
    },
    {
      "cell_type": "code",
      "source": [
        "with open('/content/example.txt', 'r') as file:\n",
        "    content = file.read()\n",
        "    print(content)\n"
      ],
      "metadata": {
        "id": "RLnJqEsfNyR6"
      },
      "execution_count": null,
      "outputs": []
    },
    {
      "cell_type": "code",
      "source": [
        "with open('/content/example.txt', 'r') as file:\n",
        "    for line in file:\n",
        "        print(line.strip())\n"
      ],
      "metadata": {
        "id": "pPluho1TPesv"
      },
      "execution_count": null,
      "outputs": []
    },
    {
      "cell_type": "code",
      "source": [
        "with open('output.txt', 'w') as file:\n",
        "    file.write('Hello, World!\\n')\n"
      ],
      "metadata": {
        "id": "1Gaye3uhPlY6"
      },
      "execution_count": null,
      "outputs": []
    },
    {
      "cell_type": "code",
      "source": [
        "with open('example.txt', 'r') as file:\n",
        "    for line in file:\n",
        "        print(line.strip())\n"
      ],
      "metadata": {
        "id": "RFmd1YYPP0eb"
      },
      "execution_count": null,
      "outputs": []
    },
    {
      "cell_type": "code",
      "source": [
        "with open('/content/output.txt', 'w') as file:\n",
        "    file.write('Hello, World!\\n')\n"
      ],
      "metadata": {
        "id": "CsPXPTN5Q_wC"
      },
      "execution_count": null,
      "outputs": []
    },
    {
      "cell_type": "code",
      "source": [
        "with open('/content/output.txt', 'w') as file:\n",
        "    file.writelines(['Line 1\\n', 'Line 2\\n'])\n"
      ],
      "metadata": {
        "id": "m2e2_aFHRMaj"
      },
      "execution_count": null,
      "outputs": []
    },
    {
      "cell_type": "code",
      "source": [
        "file.close()"
      ],
      "metadata": {
        "id": "BiAYvoxNRZ2T"
      },
      "execution_count": null,
      "outputs": []
    },
    {
      "cell_type": "code",
      "source": [
        "try:\n",
        "    with open('/content/nonexistent.txt', 'r') as file:\n",
        "        content = file.read()\n",
        "except FileNotFoundError:\n",
        "    print(\"The file does not exist.\")\n"
      ],
      "metadata": {
        "id": "ej_me6JERiqr"
      },
      "execution_count": null,
      "outputs": []
    },
    {
      "cell_type": "code",
      "source": [
        "try:\n",
        "    file = open('/content/nonexistent.txt', 'r')\n",
        "    content = file.read()\n",
        "except FileNotFoundError:\n",
        "    print(\"The file does not exist.\")\n",
        "finally:\n",
        "    file.close()  # Always executed\n"
      ],
      "metadata": {
        "id": "hdKihiMdSLoN"
      },
      "execution_count": null,
      "outputs": []
    },
    {
      "cell_type": "code",
      "source": [
        "with open('/content/example.txt', 'r') as file:\n",
        "    content = file.read()\n",
        "\n"
      ],
      "metadata": {
        "id": "84U9KnbZSp5t"
      },
      "execution_count": null,
      "outputs": []
    },
    {
      "cell_type": "code",
      "source": [
        "file = open('/content/example.txt', 'r')  # Open file\n",
        "file.close()  # Close file"
      ],
      "metadata": {
        "id": "piw1ndcsS2PL"
      },
      "execution_count": null,
      "outputs": []
    },
    {
      "cell_type": "code",
      "source": [
        "with open('/content/example.txt', 'r') as file:\n",
        "    content = file.read()\n",
        "    print(content)\n"
      ],
      "metadata": {
        "id": "dsE_LXW8S8U0"
      },
      "execution_count": null,
      "outputs": []
    },
    {
      "cell_type": "code",
      "source": [
        "with open('/content/example.txt', 'r') as file:\n",
        "    for line in file:\n",
        "        print(line.strip())\n"
      ],
      "metadata": {
        "id": "a2VBv6BjTEqr"
      },
      "execution_count": null,
      "outputs": []
    },
    {
      "cell_type": "code",
      "source": [
        "with open('/content/output.txt', 'w') as file:\n",
        "    file.write('Hello, World!\\n')\n"
      ],
      "metadata": {
        "id": "srRMVYpqTMtk"
      },
      "execution_count": null,
      "outputs": []
    },
    {
      "cell_type": "code",
      "source": [
        "with open('/content/output.txt', 'w') as file:\n",
        "    file.writelines(['Line 1\\n', 'Line 2\\n'])\n"
      ],
      "metadata": {
        "id": "jg1_acWVThjs"
      },
      "execution_count": null,
      "outputs": []
    },
    {
      "cell_type": "code",
      "source": [
        "with open('/content/output.txt', 'a') as file:\n",
        "    file.write('Appending a new line.\\n')"
      ],
      "metadata": {
        "id": "3P5B6VxuUD7W"
      },
      "execution_count": null,
      "outputs": []
    },
    {
      "cell_type": "code",
      "source": [
        "try:\n",
        "    with open('nonexistent.txt', 'r') as file:\n",
        "        content = file.read()\n",
        "except FileNotFoundError:\n",
        "    print(\"The file does not exist.\")\n"
      ],
      "metadata": {
        "id": "H5BHaPQrUh_F"
      },
      "execution_count": null,
      "outputs": []
    },
    {
      "cell_type": "code",
      "source": [
        "try:\n",
        "    file = open('example.txt', 'r')\n",
        "    content = file.read()\n",
        "except FileNotFoundError:\n",
        "    print(\"The file does not exist.\")\n",
        "finally:\n",
        "    file.close()\n"
      ],
      "metadata": {
        "id": "cOfhaNiMUvfN"
      },
      "execution_count": null,
      "outputs": []
    },
    {
      "cell_type": "code",
      "source": [
        "class CustomError(Exception):\n",
        "    pass\n",
        "\n",
        "try:\n",
        "    raise CustomError(\"This is a custom error!\")\n",
        "except CustomError as e:\n",
        "    print(e)\n"
      ],
      "metadata": {
        "id": "qBeMkrezVVRd"
      },
      "execution_count": null,
      "outputs": []
    },
    {
      "cell_type": "code",
      "source": [
        "class CustomError(Exception):\n",
        "    pass\n",
        "\n",
        "try:\n",
        "    raise CustomError(\"This is a custom error!\")\n",
        "except CustomError as e:\n",
        "    print(e)\n"
      ],
      "metadata": {
        "id": "mv_rFpP6WOsn"
      },
      "execution_count": null,
      "outputs": []
    },
    {
      "cell_type": "code",
      "source": [
        "import csv\n",
        "\n",
        "try:\n",
        "    with open('/content/SampleFile.csv', 'r') as file:\n",
        "        reader = csv.reader(file)\n",
        "        for row in reader:\n",
        "            print(row)\n",
        "except FileNotFoundError:\n",
        "    print(\"The file does not exist.\")"
      ],
      "metadata": {
        "id": "gIkZtKQcXCgE"
      },
      "execution_count": null,
      "outputs": []
    },
    {
      "cell_type": "code",
      "source": [
        "import csv\n",
        "\n",
        "try:\n",
        "    with open('/content/SampleFile.csv', 'r') as file:\n",
        "        reader = csv.DictReader(file)  # Corrected spelling\n",
        "        for row in reader:\n",
        "            print(row)\n",
        "except FileNotFoundError:\n",
        "    print(\"The file does not exist.\")\n"
      ],
      "metadata": {
        "id": "3W_R0DUqYXZQ"
      },
      "execution_count": null,
      "outputs": []
    },
    {
      "cell_type": "code",
      "source": [
        "import csv\n",
        "\n",
        "# Open the CSV file containing BBA student information\n",
        "with open('/content/SampleFile.csv', 'r') as file:\n",
        "    reader = csv.reader(file)\n",
        "\n",
        "    # Iterate through rows\n",
        "    for row in reader:\n",
        "        # Print each student's information, assuming columns like Name, ID, Department\n",
        "        print(row)\n"
      ],
      "metadata": {
        "id": "_B4d__nkZlM2"
      },
      "execution_count": null,
      "outputs": []
    },
    {
      "cell_type": "code",
      "source": [
        "import csv\n",
        "\n",
        "# Path to your CSV file containing BBA student information\n",
        "file_path = '/content/SampleFile.csv'\n",
        "\n",
        "try:\n",
        "    with open(file_path, 'r') as file:\n",
        "        reader = csv.reader(file)\n",
        "\n",
        "        # Assuming the first row contains headers (e.g., Name, ID, Department)\n",
        "        headers = next(reader)\n",
        "\n",
        "        # Loop through rows and print only BBA student data\n",
        "        for row in reader:\n",
        "            if 'BBA' in row:  # Check if 'BBA' is mentioned in the row (e.g., Department)\n",
        "                print(row)\n",
        "\n",
        "except FileNotFoundError:\n",
        "    print(\"The file does not exist.\")\n"
      ],
      "metadata": {
        "id": "1nsvpFhPaFI9"
      },
      "execution_count": null,
      "outputs": []
    },
    {
      "cell_type": "code",
      "source": [],
      "metadata": {
        "id": "KQ937-5AaXcm"
      },
      "execution_count": null,
      "outputs": []
    },
    {
      "cell_type": "code",
      "source": [
        "import csv\n",
        "def FindCourseAndStudentInfo(reader):\n",
        "  coursStudentInfo = dict()\n",
        "  for  row in reader:\n",
        "    CourseStudentInfo = dict()\n",
        "\n",
        "    for row in reader:\n",
        "      if row['Title']in CourseStudentInfo:\n",
        "        CourseStudentInfo[row['Title']].append(row['Student Id'])\n",
        "      else:\n",
        "        CourseStudentInfo[row['Title']] = [row['Student Id']]\n",
        "    return CourseStudentInfo\n",
        "\n",
        "\n",
        "    for row in reader:\n",
        "          print(row)\n",
        "\n",
        "try:\n",
        "    with open('/content/SampleFile.csv', 'r') as file:\n",
        "        reader = csv.reader(file)\n",
        "        for row in reader:\n",
        "            print(row)\n",
        "except Exception as e:\n",
        "    print(f\"An error occurred: {e}\")"
      ],
      "metadata": {
        "id": "PCj6qN38j9Su"
      },
      "execution_count": null,
      "outputs": []
    },
    {
      "cell_type": "code",
      "source": [
        "import csv\n",
        "def FindCourseAndStudentInfo(reader):\n",
        "  coursStudentInfo = dict()\n",
        "  for  row in reader:\n",
        "    CourseStudentInfo = dict()\n",
        "\n",
        "    for row in reader:\n",
        "      if row['Title']in CourseStudentInfo:\n",
        "        CourseStudentInfo[row['Title']].append(row['Student Id'])\n",
        "      else:\n",
        "        CourseStudentInfo[row['Title']] = [row['Student Id']]\n",
        "\n",
        "\n",
        "    for row in reader:\n",
        "          print(row)\n",
        "\n",
        "try:\n",
        "    with open('/content/SampleFile.csv', 'r') as file:\n",
        "        reader = csv.reader(file)\n",
        "        for row in reader:\n",
        "            print(row)\n",
        "except Exception as e:\n",
        "    print(f\"An error occurred: {e}\")"
      ],
      "metadata": {
        "id": "8FQqC2Xcmt4-"
      },
      "execution_count": null,
      "outputs": []
    },
    {
      "cell_type": "code",
      "source": [
        "import csv\n",
        "\n",
        "# Path to your CSV file\n",
        "file_path = '/content/SampleFile.csv'\n",
        "\n",
        "try:\n",
        "    with open(file_path, 'r') as file:\n",
        "        reader = csv.DictReader(file)\n",
        "\n",
        "\n",
        "        student_courses = {}\n",
        "\n",
        "\n",
        "        for row in reader:\n",
        "            student_name = row['Student Name']\n",
        "\n",
        "\n",
        "            course_name = row['Title']\n",
        "\n",
        "\n",
        "            if student_name in student_courses:\n",
        "                student_courses[student_name].append(course_name)\n",
        "            else:\n",
        "                student_courses[student_name] = [course_name]\n",
        "\n",
        "\n",
        "    for student, courses in student_courses.items():\n",
        "        print(f\"{student}: {courses}\")\n",
        "\n",
        "except FileNotFoundError:\n",
        "    print(\"The file does not exist.\")\n",
        "except KeyError as e:\n",
        "    print(f\"KeyError: {e}. Check if the column name exists in your CSV file.\")"
      ],
      "metadata": {
        "id": "D1M7Bm1DoiEH"
      },
      "execution_count": null,
      "outputs": []
    },
    {
      "cell_type": "code",
      "source": [
        "import pandas as pd\n",
        "import random\n",
        "\n",
        "file_path = '/content/SampleFile.csv'\n",
        "\n",
        "try:\n",
        "    df = pd.read_csv(file_path)\n",
        "\n",
        "    if 'Student Name' not in df.columns:\n",
        "        raise KeyError(\"Missing 'Student Name' column in dataset.\")\n",
        "\n",
        "    student_names = df['Student Name'].tolist()\n",
        "\n",
        "    num_students = len(student_names)\n",
        "    num_days = 5\n",
        "\n",
        "    random.shuffle(student_names)\n",
        "\n",
        "    schedule = {f\"Day {i + 1}\": [] for i in range(num_days)}\n",
        "\n",
        "    for i, student in enumerate(student_names):\n",
        "        day = f\"Day {(i % num_days) + 1}\"\n",
        "        schedule[day].append(student)\n",
        "\n",
        "\n",
        "    for day, students_list in schedule.items():\n",
        "        print(f\"{day}: {students_list}\")\n",
        "\n",
        "except FileNotFoundError:\n",
        "    print(\"The file does not exist.\")\n",
        "except KeyError as e:\n",
        "    print(f\"KeyError: {e}. Check if the column name exists in your CSV file.\")\n"
      ],
      "metadata": {
        "id": "dnJLcdeAstMF"
      },
      "execution_count": null,
      "outputs": []
    }
  ]
}