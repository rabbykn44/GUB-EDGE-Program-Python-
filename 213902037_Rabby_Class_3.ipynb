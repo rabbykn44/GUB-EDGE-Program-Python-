{
  "nbformat": 4,
  "nbformat_minor": 0,
  "metadata": {
    "colab": {
      "private_outputs": true,
      "provenance": []
    },
    "kernelspec": {
      "name": "python3",
      "display_name": "Python 3"
    },
    "language_info": {
      "name": "python"
    }
  },
  "cells": [
    {
      "cell_type": "code",
      "execution_count": null,
      "metadata": {
        "id": "SrWZesGUGaHf"
      },
      "outputs": [],
      "source": [
        "sum = 0\n",
        "i = 1\n",
        "while i <= 50:\n",
        "    sum = sum + i\n",
        "    i = i + 1\n",
        "print(sum)\n"
      ]
    },
    {
      "cell_type": "code",
      "source": [
        "n = int(input(\"Enter a number: \"))\n",
        "i = 0\n",
        "while i <= 10 :\n",
        "    print(n, \"x\", i , \"=\" , n * i)\n",
        "    i = i + 1\n",
        "    sum = sum + 1\n",
        "    print(sum)\n"
      ],
      "metadata": {
        "id": "KFsfnlQhWJYF"
      },
      "execution_count": null,
      "outputs": []
    },
    {
      "cell_type": "code",
      "source": [
        "n = int(input(\"Enter a number: \"))\n",
        "sum = 0\n",
        "while n > 0 :\n",
        "  d = n % 10\n",
        "  n = n // 10\n",
        "  sum = sum + d\n"
      ],
      "metadata": {
        "id": "M78dPOgjXsTe"
      },
      "execution_count": null,
      "outputs": []
    },
    {
      "cell_type": "code",
      "source": [],
      "metadata": {
        "id": "Y0e99R6RXqNv"
      },
      "execution_count": null,
      "outputs": []
    },
    {
      "cell_type": "code",
      "source": [
        "n = int(input(\"Enter a number: \"))\n",
        "sum = 0\n",
        "while n > 0 :\n",
        "  d = n % 10\n",
        "  n = n // 10\n",
        "  sum = sum + d\n",
        "\n",
        "print(sum)\n"
      ],
      "metadata": {
        "id": "gO9ij86oHMwQ"
      },
      "execution_count": null,
      "outputs": []
    },
    {
      "cell_type": "code",
      "source": [],
      "metadata": {
        "id": "QVoAMkKOaWt4"
      },
      "execution_count": null,
      "outputs": []
    },
    {
      "cell_type": "code",
      "source": [
        "sum = 0\n",
        "i = 15\n",
        "while i <= 30:\n",
        "    sum = sum + i\n",
        "    i = i + 1\n",
        "print(sum)"
      ],
      "metadata": {
        "id": "OAA7q0CFI7LH"
      },
      "execution_count": null,
      "outputs": []
    },
    {
      "cell_type": "code",
      "source": [
        "sum = 0\n",
        "i = 1\n",
        "while i <= 30:\n",
        "    sum = sum + i\n",
        "    i = i + 1\n",
        "print(sum)"
      ],
      "metadata": {
        "id": "DqKpmx5LJbfU"
      },
      "execution_count": null,
      "outputs": []
    },
    {
      "cell_type": "code",
      "source": [
        "n = int(input(\"Enter a number: \"))\n",
        "sum = n * (n + 1) // 2\n",
        "print(\"Sum of first\", n, \"natural numbers is:\", sum)\n"
      ],
      "metadata": {
        "id": "mHx50V9yJtYF"
      },
      "execution_count": null,
      "outputs": []
    },
    {
      "cell_type": "code",
      "source": [
        "sum = 0\n",
        "i = 1\n",
        "while i <= 20:\n",
        "    if i % 2 == 0:\n",
        "        sum += i\n",
        "    i += 1\n",
        "print(sum)\n"
      ],
      "metadata": {
        "id": "-k5avORUK6RV"
      },
      "execution_count": null,
      "outputs": []
    },
    {
      "cell_type": "code",
      "source": [
        "sum = 0\n",
        "i = 2\n",
        "while i <= 20:\n",
        "    print (i)\n",
        "    i += 2\n"
      ],
      "metadata": {
        "id": "VVpF_LnfMQFf"
      },
      "execution_count": null,
      "outputs": []
    },
    {
      "cell_type": "code",
      "source": [
        "Fact = 1\n",
        "i = 1\n",
        "while i <= 20:\n",
        "    if i % 2 == 0:\n",
        "        fact *= i\n",
        "    i += 1\n",
        "print(fact)"
      ],
      "metadata": {
        "id": "SxyDPLmdNZNi"
      },
      "execution_count": null,
      "outputs": []
    },
    {
      "cell_type": "code",
      "source": [],
      "metadata": {
        "id": "NDJVDzfMcIcn"
      },
      "execution_count": null,
      "outputs": []
    },
    {
      "cell_type": "code",
      "source": [
        "fact = 1\n",
        "i = 1\n",
        "while i <= 20:\n",
        "    if i % 2 == 0:\n",
        "        fact *= i\n",
        "    i += 1\n",
        "print(fact)"
      ],
      "metadata": {
        "id": "j23lqDTONtvh"
      },
      "execution_count": null,
      "outputs": []
    },
    {
      "cell_type": "markdown",
      "source": [],
      "metadata": {
        "id": "98Xxvv8lHHDo"
      }
    },
    {
      "cell_type": "markdown",
      "source": [
        "Sum Of Natrual Number\n"
      ],
      "metadata": {
        "id": "nhh6eWn1HJJv"
      }
    },
    {
      "cell_type": "code",
      "source": [
        "A = [36, 69, 24, 32 , 45]\n",
        "print (A)\n",
        "print (A[2])\n",
        "A[3] = A [2]\n",
        "print (A)\n",
        "A[1] += 10\n",
        "print (A)"
      ],
      "metadata": {
        "id": "bsMlOqxraXmX"
      },
      "execution_count": null,
      "outputs": []
    },
    {
      "cell_type": "code",
      "source": [],
      "metadata": {
        "id": "i--v-_g3ckOP"
      },
      "execution_count": null,
      "outputs": []
    },
    {
      "cell_type": "code",
      "source": [
        "A = [36, 69, 24, 32, 45, 62, 45, 93]\n",
        "print( A)\n",
        "i = 0\n",
        "while i < len(A) / 2:\n",
        "    A[i], A[len(A) - i - 1] = A[len(A) - i - 1], A[i]\n",
        "    i += 1\n",
        "print( A)\n",
        "\n",
        "\n"
      ],
      "metadata": {
        "id": "WUnrplP3cJRG"
      },
      "execution_count": null,
      "outputs": []
    },
    {
      "cell_type": "code",
      "source": [
        "A = [36, 69, 24, 32, 45, 62, 45, 93]\n",
        "max_val = A[0]\n",
        "max_index = 0\n",
        "\n",
        "i = 0\n",
        "while i < len(A):\n",
        "    if A[i] > max_val:\n",
        "        max_val = A[i]\n",
        "        max_index = i\n",
        "    i += 1\n",
        "\n",
        "print(\"Maximum value:\", max_val)\n",
        "print(\"Index of maximum value:\", max_index)\n"
      ],
      "metadata": {
        "id": "vzaRVu2lehWA"
      },
      "execution_count": null,
      "outputs": []
    },
    {
      "cell_type": "code",
      "source": [
        "A = [36, 69, 24, 32, -45, 62, 45, 93]\n",
        "i = 0\n",
        "while i < len(A):\n",
        "    if A[i] < 0:\n",
        "        break\n",
        "    else:\n",
        "        print(A[i])\n",
        "    i += 1\n"
      ],
      "metadata": {
        "id": "U_iyPrcdgKml"
      },
      "execution_count": null,
      "outputs": []
    },
    {
      "cell_type": "code",
      "source": [
        "i = 1\n",
        "while i<=20:\n",
        "if i % 2 == 0:\n",
        "   print(A)"
      ],
      "metadata": {
        "id": "T8n2ejQnjUTo"
      },
      "execution_count": null,
      "outputs": []
    },
    {
      "cell_type": "code",
      "source": [
        "\n",
        "# prompt: attempt = 3\n",
        "\n",
        "attempt = 3\n",
        "sum = 0\n",
        "i = 1\n",
        "while i <= 50:\n",
        "    sum = sum + i\n",
        "    i = i + 1\n",
        "print(sum)\n",
        "\n",
        "n = int(input(\"Enter a number: \"))\n",
        "i = 0\n",
        "while i <= 10 :\n",
        "    print(n, \"x\", i , \"=\" , n * i)\n",
        "    i = i + 1\n",
        "    sum = sum + 1\n",
        "    print(sum)\n",
        "\n",
        "n = int(input(\"Enter a number: \"))\n",
        "sum = 0\n",
        "while n > 0 :\n",
        "  d = n % 10\n",
        "  n = n // 10\n",
        "  sum = sum + d\n",
        "\n",
        "n = int(input(\"Enter a number: \"))\n",
        "sum = 0\n",
        "while n > 0 :\n",
        "  d = n % 10\n",
        "  n = n // 10\n",
        "  sum = sum + d\n",
        "\n",
        "print(sum)\n",
        "\n",
        "sum = 0\n",
        "i = 15\n",
        "while i <= 30:\n",
        "    sum = sum + i\n",
        "    i = i + 1\n",
        "print(sum)\n",
        "sum = 0\n",
        "i = 1\n",
        "while i <= 30:\n",
        "    sum = sum + i\n",
        "    i = i + 1\n",
        "print(sum)\n",
        "n = int(input(\"Enter a number: \"))\n",
        "sum = n * (n + 1) // 2\n",
        "print(\"Sum of first\", n, \"natural numbers is:\", sum)\n",
        "\n",
        "sum = 0\n",
        "i = 1\n",
        "while i <= 20:\n",
        "    if i % 2 == 0:\n",
        "        sum += i\n",
        "    i += 1\n",
        "print(sum)\n",
        "\n",
        "sum = 0\n",
        "i = 2\n",
        "while i <= 20:\n",
        "    print (i)\n",
        "    i += 2\n",
        "\n",
        "Fact = 1\n",
        "i = 1\n",
        "while i <= 20:\n",
        "    if i % 2 == 0:\n",
        "        Fact *= i\n",
        "    i += 1\n",
        "print(Fact)\n",
        "fact = 1\n",
        "i = 1\n",
        "while i <= 20:\n",
        "    if i % 2 == 0:\n",
        "        fact *= i\n",
        "    i += 1\n",
        "print(fact)\n",
        "#\n",
        "# Sum Of Natrual Number\n",
        "#\n",
        "A = [36, 69, 24, 32 , 45]\n",
        "print (A)\n",
        "print (A[2])\n",
        "A[3] = A [2]\n",
        "print (A)\n",
        "A[1] += 10\n",
        "print (A)\n",
        "A = [36, 69, 24, 32, 45, 62, 45, 93]\n",
        "print( A)\n",
        "i = 0\n",
        "while i < len(A) / 2:\n",
        "    A[i], A[len(A) - i - 1] = A[len(A) - i - 1], A[i]\n",
        "    i += 1\n",
        "print( A)\n",
        "\n",
        "\n",
        "\n",
        "A = [36, 69, 24, 32, 45, 62, 45, 93]\n",
        "max_val = A[0]\n",
        "max_index = 0\n",
        "\n",
        "i = 0\n",
        "while i < len(A):\n",
        "    if A[i] > max_val:\n",
        "        max_val = A[i]\n",
        "        max_index = i\n",
        "    i += 1\n",
        "\n",
        "print(\"Maximum value:\", max_val)\n",
        "print(\"Index of maximum value:\", max_index)\n",
        "\n",
        "A = [36, 69, 24, 32, -45, 62, 45, 93]\n",
        "i = 0\n",
        "while i < len(A):\n",
        "    if A[i] < 0:\n",
        "        break\n",
        "    else:\n",
        "        print(A[i])\n",
        "    i += 1\n",
        "\n",
        "i = 1\n",
        "while i<=20:\n",
        "  if i % 2 == 0:\n",
        "     print(A)\n",
        "  i += 1"
      ],
      "metadata": {
        "id": "I7EHA71GkC9p"
      },
      "execution_count": null,
      "outputs": []
    },
    {
      "cell_type": "code",
      "source": [
        "attempt = 3\n",
        "pass_=\"abc123\"\n",
        "password = input(\"Enter password: \")\n",
        "i = 0\n",
        "while  i< attempt:\n",
        "  if password == pass_:\n",
        "    break\n",
        "  i += 1\n",
        "\n",
        "if match:\n",
        "\n",
        "    print (\"Access Granted\")\n",
        "  else:\n",
        "    print (\"Access denied\")\n"
      ],
      "metadata": {
        "id": "7KGBw0bgkKX3"
      },
      "execution_count": null,
      "outputs": []
    }
  ]
}