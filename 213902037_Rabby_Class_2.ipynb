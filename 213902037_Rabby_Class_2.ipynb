{
  "nbformat": 4,
  "nbformat_minor": 0,
  "metadata": {
    "colab": {
      "private_outputs": true,
      "provenance": [],
      "cell_execution_strategy": "setup"
    },
    "kernelspec": {
      "name": "python3",
      "display_name": "Python 3"
    },
    "language_info": {
      "name": "python"
    }
  },
  "cells": [
    {
      "cell_type": "code",
      "execution_count": null,
      "metadata": {
        "id": "7sds8gv6nIzC"
      },
      "outputs": [],
      "source": [
        "print (123)\n",
        "print(\" Hello!\")"
      ]
    },
    {
      "cell_type": "code",
      "source": [],
      "metadata": {
        "id": "n7PrRWIB_YnS"
      },
      "execution_count": null,
      "outputs": []
    },
    {
      "cell_type": "code",
      "source": [
        "x = 12.2\n",
        "y = 14\n",
        "print(x)\n",
        "print(x,y)\n",
        "print('x:', x,'y:',y)\n",
        "print ('x,: '+str(x)+'y:'+ str(y))"
      ],
      "metadata": {
        "id": "My0sB7v9o75d"
      },
      "execution_count": null,
      "outputs": []
    },
    {
      "cell_type": "code",
      "source": [
        "pi= 3.14\n",
        "r = 3\n",
        "area = pi*r**2\n",
        "print(area)\n",
        "\n"
      ],
      "metadata": {
        "id": "XdYKEg3-u3Zt"
      },
      "execution_count": null,
      "outputs": []
    },
    {
      "cell_type": "code",
      "source": [],
      "metadata": {
        "id": "wLYQrG9zvnZl"
      },
      "execution_count": null,
      "outputs": []
    },
    {
      "cell_type": "code",
      "source": [
        "a = 10\n",
        "b = 20\n",
        "a= a+b\n",
        "b = a-b\n",
        "a = a-b\n",
        "print(a,b)"
      ],
      "metadata": {
        "id": "6Sw3KX4jwJNO"
      },
      "execution_count": null,
      "outputs": []
    },
    {
      "cell_type": "code",
      "source": [
        "P = 100\n",
        "R = 5\n",
        "T = 2\n",
        "SI = (P*R*T)/100\n",
        "print(SI)\n"
      ],
      "metadata": {
        "id": "uxekSW62xhR3"
      },
      "execution_count": null,
      "outputs": []
    },
    {
      "cell_type": "code",
      "source": [
        "\n",
        "celsius = 37\n",
        "fahrenheit = (celsius * 9/5) + 32\n",
        "print(fahrenheit)\n"
      ],
      "metadata": {
        "id": "SV_KosvhzBXX"
      },
      "execution_count": null,
      "outputs": []
    },
    {
      "cell_type": "code",
      "source": [
        "print(type (12.3))\n",
        "print(type(\"sdfsdf\"))\n",
        "print(type(12))"
      ],
      "metadata": {
        "id": "Sk9gYepY2rMZ"
      },
      "execution_count": null,
      "outputs": []
    },
    {
      "cell_type": "code",
      "source": [
        "noun = 'David'\n",
        "day = 'Monday'\n",
        "\n",
        "str_ = f'''How are you Mr. {noun}. You are invited to come my home on{day}.\n",
        "{noun} don't miss the chance'''\n",
        "print(str_)\n"
      ],
      "metadata": {
        "id": "gMbVj6cA2-Qm"
      },
      "execution_count": null,
      "outputs": []
    },
    {
      "cell_type": "code",
      "source": [
        "hours = float(input(\"Enter Hours: \"))\n",
        "rate = float(input(\"Enter Rate: \"))\n",
        "\n",
        "pay = hours * rate\n",
        "\n",
        "# Print the result\n",
        "print(f\"Pay: {pay}\")\n",
        "\n"
      ],
      "metadata": {
        "id": "s8XVUrFDAZnh"
      },
      "execution_count": null,
      "outputs": []
    },
    {
      "cell_type": "code",
      "source": [
        "#print(n = 7)\n",
        "\n",
        "print(7 + 5)  # Output: 12\n",
        "\n",
        "print(5.2, \"this\", 4 - 2, \"that\", 5 / 2.0)\n",
        "\n"
      ],
      "metadata": {
        "id": "wNnrRH6KB5y2"
      },
      "execution_count": null,
      "outputs": []
    },
    {
      "cell_type": "code",
      "source": [
        "w1 = \"All\"\n",
        "w2 = \"work\"\n",
        "w3 = \"and\"\n",
        "w4 = \"no\"\n",
        "w5 = \"play\"\n",
        "w6 = \"makes\"\n",
        "w7 = \"Jack\"\n",
        "w8 = \"a\"\n",
        "w9 = \"dull\"\n",
        "w10 = \"boy.\"\n",
        "\n",
        "# Print the sentence on one line\n",
        "print(w1, w2, w3, w4, w5, w6, w7, w8, w9, w10)\n"
      ],
      "metadata": {
        "id": "1o9jjPu4CsTa"
      },
      "execution_count": null,
      "outputs": []
    },
    {
      "cell_type": "code",
      "source": [
        "# print(\"This line is commented out.\")\n",
        "print(\"This line will print.\")\n"
      ],
      "metadata": {
        "id": "8CJHIKUsBEl6"
      },
      "execution_count": null,
      "outputs": []
    },
    {
      "cell_type": "code",
      "source": [
        "6 * 1 - 2  # Evaluates to 4\n"
      ],
      "metadata": {
        "id": "1n_uiQAeERYy"
      },
      "execution_count": null,
      "outputs": []
    },
    {
      "cell_type": "code",
      "source": [
        "6 * (1 - 2)  # Evaluates to -6\n"
      ],
      "metadata": {
        "id": "Po0YLXcdET6Z"
      },
      "execution_count": null,
      "outputs": []
    },
    {
      "cell_type": "code",
      "source": [
        "bruce = 6\n",
        "print(bruce + 4)  # Output: 10\n"
      ],
      "metadata": {
        "id": "kAAnRlTIFRba"
      },
      "execution_count": null,
      "outputs": []
    },
    {
      "cell_type": "code",
      "source": [
        "\n",
        "noun = input(\"Enter a noun: \")\n",
        "verb = input(\"Enter a verb: \")\n",
        "adjective = input(\"Enter an adjective: \")\n",
        "adverb = input(\"Enter an adverb: \")\n",
        "plural_noun = input(\"Enter a plural noun: \")\n",
        "past_verb = input(\"Enter a past tense verb: \")\n",
        "\n",
        "\n",
        "madlib = f\"\"\"\n",
        "Today I saw a {adjective} {noun} at the park. It decided to {verb} {adverb}\n",
        "in front of a group of {plural_noun}. Everyone was shocked, and one person even\n",
        "{past_verb} in surprise! What a strange day!\"\"\"\n",
        "\n",
        "print(\"\\n--- Here is your Mad Lib! ---\")\n",
        "print(madlib)\n"
      ],
      "metadata": {
        "id": "MudWMIYHGZNa"
      },
      "execution_count": null,
      "outputs": []
    },
    {
      "cell_type": "code",
      "source": [
        "import random\n",
        "nouns = [\"cat\", \"dog\", \"alien\", \"pizza\", \"robot\"]\n",
        "verbs = [\"run\", \"dance\", \"jump\", \"sing\", \"fly\"]\n",
        "adjectives = [\"purple\", \"smelly\", \"gigantic\", \"angry\", \"tiny\"]\n",
        "adverbs = [\"quickly\", \"happily\", \"awkwardly\", \"loudly\", \"gracefully\"]\n",
        "plural_nouns = [\"penguins\", \"zombies\", \"children\", \"cars\", \"bicycles\"]\n",
        "past_verbs = [\"screamed\", \"laughed\", \"fainted\", \"cried\", \"cheered\"]\n",
        "\n",
        "noun = random.choice(nouns)\n",
        "verb = random.choice(verbs)\n",
        "adjective = random.choice(adjectives)\n",
        "adverb = random.choice(adverbs)\n",
        "plural_noun = random.choice(plural_nouns)\n",
        "past_verb = random.choice(past_verbs)\n",
        "\n",
        "\n",
        "madlib = f\"\"\"\n",
        "Today I saw a {adjective} {noun} at the park. It decided to {verb} {adverb}\n",
        "in front of a group of {plural_noun}. Everyone was shocked, and one person even\n",
        "{past_verb} in surprise! What a strange day!\"\"\"\n",
        "\n",
        "print(\"\\n--- Here is your Random Mad Lib! ---\")\n",
        "print(madlib)\n"
      ],
      "metadata": {
        "id": "picRhQ1_G35h"
      },
      "execution_count": null,
      "outputs": []
    },
    {
      "cell_type": "code",
      "source": [],
      "metadata": {
        "id": "ZXYd7XJLG4CE"
      },
      "execution_count": null,
      "outputs": []
    }
  ]
}