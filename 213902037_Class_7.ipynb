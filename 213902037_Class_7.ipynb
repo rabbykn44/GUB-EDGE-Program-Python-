{
  "nbformat": 4,
  "nbformat_minor": 0,
  "metadata": {
    "colab": {
      "private_outputs": true,
      "provenance": []
    },
    "kernelspec": {
      "name": "python3",
      "display_name": "Python 3"
    },
    "language_info": {
      "name": "python"
    }
  },
  "cells": [
    {
      "cell_type": "code",
      "execution_count": null,
      "metadata": {
        "id": "xjBefNLPFBL5"
      },
      "outputs": [],
      "source": [
        "language = ['Python', 'C++', 'JavaScript', 'C', 'Java', 'HTML']\n",
        "print(language)\n",
        "print(language[3])\n",
        "print(language[-2])\n",
        "for i in language:\n",
        "     print(i)\n",
        "\n",
        "\n"
      ]
    },
    {
      "cell_type": "code",
      "source": [
        "language = ['Python', 'C++', 'JavaScript', 'C', 'Java', 'HTML']\n",
        "print(language)\n",
        "print(language[3])\n",
        "print(language[-2])\n",
        "for i in language:\n",
        "    if i.startswith ('c'):\n",
        "         print(i)"
      ],
      "metadata": {
        "id": "MtTI1fzpHyfA"
      },
      "execution_count": null,
      "outputs": []
    },
    {
      "cell_type": "code",
      "source": [
        "language = ['Python', 'C++', 'JavaScript', 'C', 'Java', 'HTML']\n",
        "language[0] = 'C#'\n",
        "print(language)"
      ],
      "metadata": {
        "id": "C6h21yoXIhIb"
      },
      "execution_count": null,
      "outputs": []
    },
    {
      "cell_type": "code",
      "source": [
        "NameList = list()\n",
        "for i in range (5):\n",
        "        name = input(f\"Enter student name {i+1}: \")\n",
        "        NameList.append(name)\n",
        "        print(NameList)\n",
        "        for name in NameList:\n",
        "            print(name.upper())"
      ],
      "metadata": {
        "id": "KgwKFzAZJsfG"
      },
      "execution_count": null,
      "outputs": []
    },
    {
      "cell_type": "code",
      "source": [
        "\n",
        "numbers = []\n",
        "for i in range(10):\n",
        "  num = int(input(\"Enter a number: \"))\n",
        "  numbers.append(num)\n",
        "\n",
        "print(\"Odd numbers in the list:\")\n",
        "for num in numbers:\n",
        "  if num % 2 != 0:\n",
        "   num(print)"
      ],
      "metadata": {
        "id": "e3f7QphBLZ2p"
      },
      "execution_count": null,
      "outputs": []
    },
    {
      "cell_type": "code",
      "source": [
        "numbers = []\n",
        "for i in range(10):\n",
        "  num = int(input(\"Enter a number:\"))\n",
        "  numbers.append(num)\n",
        "print(\"Odd numbers in the list:\")\n",
        "for num in numbers:\n",
        "  if num % 2 != 0:\n",
        "    print(num)\n"
      ],
      "metadata": {
        "id": "ueEv5gd5Llc4"
      },
      "execution_count": null,
      "outputs": []
    },
    {
      "cell_type": "code",
      "source": [
        "NL = [23,45,67,66,92, 34, 69]\n",
        "def isOdd (n):\n",
        "    if n % 2 == 1:\n",
        "        return True\n",
        "    else:\n",
        "        return False\n",
        "odd_numbers = list(map(isOdd, NL))\n",
        "print(odd_numbers)\n"
      ],
      "metadata": {
        "id": "K1q5vAG-Nk2W"
      },
      "execution_count": null,
      "outputs": []
    },
    {
      "cell_type": "code",
      "source": [
        "NL = [23,45,67,66,92, 34, 69]\n",
        "def isOdd (n):\n",
        "    if n % 2 == 1:\n",
        "        return True\n",
        "    else:\n",
        "        return False\n",
        "odd_numbers = list(map(isOdd, NL))\n",
        "print(odd_numbers)"
      ],
      "metadata": {
        "id": "R2ewI5l9Ofad"
      },
      "execution_count": null,
      "outputs": []
    },
    {
      "cell_type": "code",
      "source": [
        "NL = [23,45, 67,66,92,34, 69]\n",
        "\n",
        "...\n",
        "for num in NL:\n",
        "    if num % 2 != 0:\n",
        "        print(num)"
      ],
      "metadata": {
        "id": "00We9UhXOrm4"
      },
      "execution_count": null,
      "outputs": []
    },
    {
      "cell_type": "code",
      "source": [
        "# Get 5 words from the user and store them in a list\n",
        "words = []\n",
        "for i in range(5):\n",
        "  word = input(\"Enter a word: \")\n",
        "  words.append(word)\n",
        "\n"
      ],
      "metadata": {
        "id": "nnkBI0PZQYOT"
      },
      "execution_count": null,
      "outputs": []
    },
    {
      "cell_type": "code",
      "source": [
        "\n",
        "# Iterate through the list and display words starting with \"b\"\n",
        "print(\"Words starting with 'b':\")\n",
        "for word in words:\n",
        "  if word.startswith(\"b\"):\n",
        "    print(word)"
      ],
      "metadata": {
        "id": "609DHWxzQkOb"
      },
      "execution_count": null,
      "outputs": []
    },
    {
      "cell_type": "code",
      "source": [
        "lst = list(range (50))\n",
        "print(lst)\n",
        "nwlst = [x+1 for x in lst]\n",
        "print(nwlst)\n"
      ],
      "metadata": {
        "id": "BkSgAdnHTUCc"
      },
      "execution_count": null,
      "outputs": []
    },
    {
      "cell_type": "code",
      "source": [
        "Colors = ['Yellow', 'pink', 'gray', 'white','black']\n",
        "nwclr =[color for color in Colors if 'a' in color]\n",
        "print(nwclr)\n",
        "\n",
        "\n",
        "\n"
      ],
      "metadata": {
        "id": "AHO1Vi6nUEuV"
      },
      "execution_count": null,
      "outputs": []
    },
    {
      "cell_type": "code",
      "source": [
        "dir (list)"
      ],
      "metadata": {
        "id": "Wax68J0EeQsx"
      },
      "execution_count": null,
      "outputs": []
    },
    {
      "cell_type": "code",
      "source": [
        "my_list = []\n",
        "for _ in range (5):\n",
        "    item = input(\"Enter an item: \")\n",
        "    my_list.append(item)\n",
        "print(\"Original list:\",my_list)\n",
        "\n",
        "if my_list:\n",
        "    del my_list[0]\n",
        "    print(\"List after removing the first:\",my_list)\n",
        "else:\n",
        "        print(\"List is empty\")"
      ],
      "metadata": {
        "id": "Catp-VIefewQ"
      },
      "execution_count": null,
      "outputs": []
    },
    {
      "cell_type": "code",
      "source": [
        "numbers = []\n",
        "for _ in range(5):\n",
        "  num = int(input(\"Enter an integer:\"))\n",
        "  numbers.append(num)\n",
        "for num in numbers:\n",
        "  print(f\"Number: {num},Square: {num**2}\")\n"
      ],
      "metadata": {
        "id": "7O27TrfbhlGY"
      },
      "execution_count": null,
      "outputs": []
    },
    {
      "cell_type": "code",
      "source": [
        "numbers = [4,6,7,9,2]\n",
        "new_nl =[x * x for x in numbers]\n",
        "print (new_nl)\n",
        "new_nl = map (lambda x: x * x,numbers)"
      ],
      "metadata": {
        "id": "H-mpwWEOh3HA"
      },
      "execution_count": null,
      "outputs": []
    },
    {
      "cell_type": "code",
      "source": [
        "numbers = [2,3,4,5,6]\n",
        "numbers.remove(3)\n",
        "print(numbers)"
      ],
      "metadata": {
        "id": "WFe-13rllOf6"
      },
      "execution_count": null,
      "outputs": []
    },
    {
      "cell_type": "code",
      "source": [
        "my_list = ['apple', 'banana', 'cherry', 'date']\n",
        "print(\"Original list:\", my_list)\n",
        "\n",
        "try:\n",
        "    index = int(input(\"Index to modify: \"))\n",
        "    if 0 <= index < len(my_list):\n",
        "        my_list[index] = input(\"New value: \")\n",
        "        print(\"Modified list:\", my_list)\n",
        "    else:\n",
        "        print(\"Invalid index.\")\n",
        "except ValueError:\n",
        "    print(\"Invalid input.\")\n",
        "\n",
        "\n"
      ],
      "metadata": {
        "id": "FJG8Jo5zl9Wp"
      },
      "execution_count": null,
      "outputs": []
    }
  ]
}