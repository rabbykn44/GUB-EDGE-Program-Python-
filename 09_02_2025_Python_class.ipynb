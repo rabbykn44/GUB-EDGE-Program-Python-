{
  "nbformat": 4,
  "nbformat_minor": 0,
  "metadata": {
    "colab": {
      "private_outputs": true,
      "provenance": []
    },
    "kernelspec": {
      "name": "python3",
      "display_name": "Python 3"
    },
    "language_info": {
      "name": "python"
    }
  },
  "cells": [
    {
      "cell_type": "code",
      "execution_count": null,
      "metadata": {
        "id": "HEzpd9L_VSF8"
      },
      "outputs": [],
      "source": [
        "import pandas as pd\n",
        "data = [10, 20, 30, 40]\n",
        "series = pd.Series(data)\n",
        "print(series)\n",
        "\n",
        "\n",
        "\n"
      ]
    },
    {
      "cell_type": "code",
      "source": [
        "data = {'Name': ['Alice', 'Bob', 'Charlie'], 'Age': [25, 30, 35]}\n",
        "df = pd.DataFrame(data)\n",
        "print(df)"
      ],
      "metadata": {
        "id": "dtiR5bwSaeZg"
      },
      "execution_count": null,
      "outputs": []
    },
    {
      "cell_type": "code",
      "source": [
        "print(df['Name'])\n",
        "print(df.iloc[1])\n",
        "print(df.loc[1, 'Name'])"
      ],
      "metadata": {
        "id": "1TBT0rk8atpq"
      },
      "execution_count": null,
      "outputs": []
    },
    {
      "cell_type": "code",
      "source": [
        "df = pd.DataFrame({'A':[1,2,3],'B':[4,5,6]})\n",
        "print(df.loc[0])\n",
        "print(df.iloc[1])"
      ],
      "metadata": {
        "id": "lyDogqanbb54"
      },
      "execution_count": null,
      "outputs": []
    },
    {
      "cell_type": "code",
      "source": [
        "\n",
        "df['C'] = [7, 8, 9]\n",
        "df = df.drop('C', axis=1)"
      ],
      "metadata": {
        "id": "zA97M3lyb7kt"
      },
      "execution_count": null,
      "outputs": []
    },
    {
      "cell_type": "code",
      "source": [
        "df = pd.DataFrame({'Category': ['A', 'A', 'B', 'B'], 'Value': [10, 15, 20, 25]})\n",
        "grouped = df.groupby('Category').sum()\n",
        "print(grouped)"
      ],
      "metadata": {
        "id": "aZbfpRSSfI3e"
      },
      "execution_count": null,
      "outputs": []
    },
    {
      "cell_type": "code",
      "source": [],
      "metadata": {
        "id": "PeMeMmTafoBU"
      },
      "execution_count": null,
      "outputs": []
    },
    {
      "cell_type": "code",
      "source": [
        "import pandas as pd\n",
        "import numpy as np\n",
        "df = pd.DataFrame({'A': [1, np.nan, 3], 'B': [4, 5, np.nan]})\n",
        "print(df.isnull()) # Detect missing data\n",
        "\n",
        "df = df.fillna(0) # Filling missing data with 0\n",
        "print(df)"
      ],
      "metadata": {
        "id": "zjuSASzofoJ4"
      },
      "execution_count": null,
      "outputs": []
    },
    {
      "cell_type": "code",
      "source": [
        "import pandas as pd\n",
        "series = pd.Series([5,10,15,20,25])\n",
        "print(series[2])"
      ],
      "metadata": {
        "id": "mp81efmIgaSG"
      },
      "execution_count": null,
      "outputs": []
    },
    {
      "cell_type": "code",
      "source": [
        " df = pd.DataFrame({\n",
        "\n",
        " 'Name': ['Alice', 'Bob', 'Charlie'],\n",
        " 'Age': [23, 30, 28],\n",
        " 'City': ['New York', 'Los Angeles', 'Chicago']\n",
        "})\n",
        "print(df['City'])\n"
      ],
      "metadata": {
        "id": "qqm-EtYWhSS-"
      },
      "execution_count": null,
      "outputs": []
    },
    {
      "cell_type": "code",
      "source": [
        "df = pd.DataFrame({\n",
        "    'Name': ['Alice', 'Bob', 'Charlie'],\n",
        "    'Age': [23, 30, 28],\n",
        "    'Salary': [50000, 60000, 55000]\n",
        "})\n",
        "df['Gender'] = ['M','F','M']\n",
        "print(df)"
      ],
      "metadata": {
        "id": "dNXr5TBlhuV4"
      },
      "execution_count": null,
      "outputs": []
    },
    {
      "cell_type": "code",
      "source": [
        "df = df.drop(columns=['Age'])\n",
        "print(df)"
      ],
      "metadata": {
        "id": "N9KOo74eidzY"
      },
      "execution_count": null,
      "outputs": []
    },
    {
      "cell_type": "code",
      "source": [
        "import pandas as pd\n",
        "\n",
        "# Create a Pandas Series\n",
        "series = pd.Series([8, 16, 24, 32, 40])\n",
        "\n",
        "# Access the second element (index 1)\n",
        "second_element = series[1]\n",
        "\n",
        "print(second_element)  # Output: 16"
      ],
      "metadata": {
        "id": "f9jOJ0byj_kR"
      },
      "execution_count": null,
      "outputs": []
    },
    {
      "cell_type": "code",
      "source": [
        "import pandas as pd\n",
        "\n",
        "# Create the DataFrame\n",
        "data = {'Name': ['Sarah', 'Tom', 'Emily'],\n",
        "        'Age': [29, 35, 22],\n",
        "        'City': ['Boston', 'Miami', 'Seattle']}\n",
        "df = pd.DataFrame(data)\n",
        "\n",
        "# Retrieve the City column\n",
        "city_column = df['City']\n",
        "\n",
        "print(city_column)"
      ],
      "metadata": {
        "id": "uI2FNX9zkBux"
      },
      "execution_count": null,
      "outputs": []
    },
    {
      "cell_type": "code",
      "source": [
        "import pandas as pd\n",
        "\n",
        "# Create the DataFrame\n",
        "data = {'Name': ['Alice', 'Bob', 'Charlie'],\n",
        "        'Age': [23, 30, 28],\n",
        "        'Salary':[50000,60000,55000]}\n",
        "\n",
        "df = pd.DataFrame(data)\n",
        "\n",
        "\n",
        "# Add the Gender column\n",
        "df['Gender'] = ['M', 'F', 'F']\n",
        "\n",
        "print(df)"
      ],
      "metadata": {
        "id": "GqM7ZdWkkEln"
      },
      "execution_count": null,
      "outputs": []
    },
    {
      "cell_type": "code",
      "source": [
        "# Assuming 'df' is the DataFrame from Problem 3\n",
        "\n",
        "# Remove the Salary column\n",
        "df = df.drop(columns=['Salary'])\n",
        "\n",
        "print(df)"
      ],
      "metadata": {
        "id": "nNTisOWtkHSn"
      },
      "execution_count": null,
      "outputs": []
    },
    {
      "cell_type": "code",
      "source": [
        "import pandas as pd\n",
        "\n",
        "# Create the Series\n",
        "series = pd.Series([10, 20, 30, 40], index=['A', 'B', 'C', 'D'])\n",
        "\n",
        "# Retrieve the value associated with label 'C'\n",
        "value_c = series['C']\n",
        "\n",
        "print(value_c)  # Output: 30"
      ],
      "metadata": {
        "id": "_vmZ9DldkKVk"
      },
      "execution_count": null,
      "outputs": []
    },
    {
      "cell_type": "code",
      "source": [
        "import pandas as pd\n",
        "\n",
        "# Create the DataFrame\n",
        "data = {'Product': ['A', 'B', 'C'],\n",
        "        'Price': [100, 200, 300]}\n",
        "df = pd.DataFrame(data)\n",
        "\n",
        "# Insert the Discount column\n",
        "df['Discount'] = [5, 10, 15]\n",
        "\n",
        "print(df)"
      ],
      "metadata": {
        "id": "GYKPMyLykMLm"
      },
      "execution_count": null,
      "outputs": []
    },
    {
      "cell_type": "code",
      "source": [
        "import pandas as pd\n",
        "\n",
        "# Create the DataFrame (assuming it has missing values in 'Age')\n",
        "data = {'Name': ['Alice', 'Bob', 'Charlie'],\n",
        "        'Age': [23, None, 28],\n",
        "        'Country': ['USA', 'Canada', 'UK']}\n",
        "df = pd.DataFrame(data)\n",
        "\n",
        "# Replace missing values in 'Age' with 25\n",
        "df['Age'] = df['Age'].fillna(25)\n",
        "\n",
        "print(df)"
      ],
      "metadata": {
        "id": "jbhRfKyfkPCZ"
      },
      "execution_count": null,
      "outputs": []
    },
    {
      "cell_type": "code",
      "source": [
        "import pandas as pd\n",
        "\n",
        "# Create the DataFrame\n",
        "data = {'Category': ['A', 'B', 'A', 'B'],\n",
        "        'Value': [30, 40, 50, 60]}\n",
        "df = pd.DataFrame(data)\n",
        "\n",
        "# Group by Category and compute the mean of Value\n",
        "grouped = df.groupby('Category')['Value'].mean()\n",
        "\n",
        "print(grouped)"
      ],
      "metadata": {
        "id": "1wUsn-zhkR4W"
      },
      "execution_count": null,
      "outputs": []
    },
    {
      "cell_type": "code",
      "source": [
        "import pandas as pd\n",
        "\n",
        "# Create the DataFrame\n",
        "data = {'Name': ['Alice', 'Bob', 'Charlie'],\n",
        "        'Age': [23, 30, 28],\n",
        "        'Score': [85, 92, 78]}\n",
        "df = pd.DataFrame(data)\n",
        "\n",
        "# Calculate the median of the Score column\n",
        "median_score = df['Score'].median()\n",
        "\n",
        "print(median_score)  # Output: 85.0"
      ],
      "metadata": {
        "id": "Sg0OdrcGkUWp"
      },
      "execution_count": null,
      "outputs": []
    },
    {
      "cell_type": "code",
      "source": [
        "import pandas as pd\n",
        "\n",
        "# Create the DataFrame\n",
        "data = {'Name': ['Alice', 'Bob', 'Charlie', 'David'],\n",
        "        'Age': [25, 35, 28, 32],\n",
        "        'Gender': ['F', 'M', 'M', 'M']}\n",
        "df = pd.DataFrame(data)\n",
        "\n",
        "# Filter rows where Age is less than 30\n",
        "filtered_df = df[df['Age'] < 30]\n",
        "\n",
        "print(filtered_df)"
      ],
      "metadata": {
        "id": "Mkb0ERNYkWzo"
      },
      "execution_count": null,
      "outputs": []
    }
  ]
}